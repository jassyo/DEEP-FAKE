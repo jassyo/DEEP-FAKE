{
  "nbformat": 4,
  "nbformat_minor": 0,
  "metadata": {
    "colab": {
      "provenance": [],
      "gpuType": "T4"
    },
    "kernelspec": {
      "name": "python3",
      "display_name": "Python 3"
    },
    "language_info": {
      "name": "python"
    },
    "accelerator": "GPU"
  },
  "cells": [
    {
      "cell_type": "code",
      "source": [
        "from google.colab import drive\n",
        "import torch\n",
        "from torch import nn\n",
        "from torch.optim import Adam\n",
        "from torchvision import datasets, transforms, models\n",
        "from sklearn.model_selection import KFold\n",
        "from sklearn.metrics import confusion_matrix, accuracy_score, precision_score, recall_score, f1_score\n",
        "from torch.utils.data import DataLoader, Subset\n",
        "from torch.optim.lr_scheduler import ReduceLROnPlateau"
      ],
      "metadata": {
        "id": "feu0Vc_GPR1Q"
      },
      "execution_count": null,
      "outputs": []
    },
    {
      "cell_type": "code",
      "execution_count": null,
      "metadata": {
        "colab": {
          "base_uri": "https://localhost:8080/"
        },
        "id": "9iZj8Gh6NDIG",
        "outputId": "22b7cdb5-1b4e-44ca-82cb-e0242d407bac"
      },
      "outputs": [
        {
          "output_type": "stream",
          "name": "stdout",
          "text": [
            "Mounted at /content/drive\n"
          ]
        }
      ],
      "source": [
        "import numpy as np\n",
        "import torch\n",
        "from torchvision import datasets, transforms\n",
        "from torchvision.models import vgg19\n",
        "from torch.utils.data import Subset, DataLoader\n",
        "from sklearn.metrics import confusion_matrix, classification_report, accuracy_score\n",
        "from google.colab import drive\n",
        "import torch.nn.functional as F\n",
        "\n",
        "# Mount Google Drive\n",
        "drive.mount('/content/drive')\n",
        "\n",
        "# Define dataset transformations\n",
        "transform = transforms.Compose([\n",
        "    transforms.Resize((224, 224)),\n",
        "    transforms.ToTensor(),\n",
        "    transforms.Normalize(mean=[0.485, 0.456, 0.406], std=[0.229, 0.224, 0.225])\n",
        "])\n",
        "\n",
        "# Load the dataset\n",
        "dataset = datasets.ImageFolder(root='/content/drive/MyDrive/test2', transform=transform)\n",
        "\n",
        "# Prepare 3-fold cross-validation\n",
        "from sklearn.model_selection import KFold\n",
        "kfold = KFold(n_splits=3, shuffle=True, random_state=42)\n",
        "fold_indices = list(kfold.split(dataset))\n"
      ]
    },
    {
      "cell_type": "code",
      "source": [
        "\n",
        "# Grey Wolf Optimizer (GWO) Class\n",
        "class GreyWolfOptimizer:\n",
        "    def __init__(self, objective_function, dim, lb, ub, population_size, max_iter):\n",
        "        self.obj_function = objective_function\n",
        "        self.dim = dim  # Dimensionality (1 for learning rate)\n",
        "        self.lb = lb    # Lower bound\n",
        "        self.ub = ub    # Upper bound\n",
        "        self.pop_size = population_size\n",
        "        self.max_iter = max_iter\n",
        "        self.alpha_score = float(\"inf\")\n",
        "        self.beta_score = float(\"inf\")\n",
        "        self.delta_score = float(\"inf\")\n",
        "        self.alpha_pos = None\n",
        "        self.beta_pos = None\n",
        "        self.delta_pos = None\n",
        "        self.positions = np.random.uniform(lb, ub, (population_size, dim))\n",
        "\n",
        "    def optimize(self):\n",
        "        for t in range(self.max_iter):\n",
        "            for i in range(self.pop_size):\n",
        "                fitness = self.obj_function(self.positions[i, :])\n",
        "\n",
        "                # Update Alpha, Beta, Delta wolves\n",
        "                if fitness < self.alpha_score:\n",
        "                    self.alpha_score, self.alpha_pos = fitness, self.positions[i, :].copy()\n",
        "                elif fitness < self.beta_score:\n",
        "                    self.beta_score, self.beta_pos = fitness, self.positions[i, :].copy()\n",
        "                elif fitness < self.delta_score:\n",
        "                    self.delta_score, self.delta_pos = fitness, self.positions[i, :].copy()\n",
        "\n",
        "            # Update positions\n",
        "            for i in range(self.pop_size):\n",
        "                for j in range(self.dim):\n",
        "                    r1, r2 = np.random.rand(), np.random.rand()\n",
        "                    A1 = 2 * r1 - 1\n",
        "                    C1 = 2 * r2\n",
        "                    D_alpha = abs(C1 * self.alpha_pos[j] - self.positions[i, j])\n",
        "                    X1 = self.alpha_pos[j] - A1 * D_alpha\n",
        "\n",
        "                    r1, r2 = np.random.rand(), np.random.rand()\n",
        "                    A2 = 2 * r1 - 1\n",
        "                    C2 = 2 * r2\n",
        "                    D_beta = abs(C2 * self.beta_pos[j] - self.positions[i, j])\n",
        "                    X2 = self.beta_pos[j] - A2 * D_beta\n",
        "\n",
        "                    r1, r2 = np.random.rand(), np.random.rand()\n",
        "                    A3 = 2 * r1 - 1\n",
        "                    C3 = 2 * r2\n",
        "                    D_delta = abs(C3 * self.delta_pos[j] - self.positions[i, j])\n",
        "                    X3 = self.delta_pos[j] - A3 * D_delta\n",
        "\n",
        "                    self.positions[i, j] = np.clip((X1 + X2 + X3) / 3, self.lb, self.ub)\n",
        "\n",
        "        return self.alpha_pos, self.alpha_score\n",
        "\n",
        "\n"
      ],
      "metadata": {
        "id": "OvYwG3AUNHV7"
      },
      "execution_count": null,
      "outputs": []
    },
    {
      "cell_type": "code",
      "source": [
        "def objective_function(lr):\n",
        "    # Load VGG19 pretrained model\n",
        "    model = vgg19(pretrained=True)\n",
        "    model.classifier[6] = torch.nn.Linear(4096, len(dataset.classes))  # Adjust for number of classes\n",
        "    model = model.to('cuda')\n",
        "\n",
        "    # Create optimizer with current learning rate\n",
        "    optimizer = torch.optim.Adam(model.parameters(), lr=lr[0])\n",
        "    criterion = torch.nn.CrossEntropyLoss()\n",
        "\n",
        "    # Use the first fold for training and validation\n",
        "    train_idx, val_idx = fold_indices[0]\n",
        "    train_subset = Subset(dataset, train_idx)\n",
        "    val_subset = Subset(dataset, val_idx)\n",
        "\n",
        "    train_loader = DataLoader(train_subset, batch_size=32, shuffle=True)\n",
        "    val_loader = DataLoader(val_subset, batch_size=32, shuffle=False)\n",
        "\n",
        "    # Training loop\n",
        "    model.train()\n",
        "    for epoch in range(3):  # Example: Train for 3 epochs\n",
        "        for inputs, labels in train_loader:\n",
        "            inputs, labels = inputs.to('cuda'), labels.to('cuda')\n",
        "            optimizer.zero_grad()\n",
        "            outputs = model(inputs)\n",
        "            loss = criterion(outputs, labels)\n",
        "            loss.backward()\n",
        "            optimizer.step()\n",
        "\n",
        "    # Validate and calculate accuracy\n",
        "    model.eval()\n",
        "    correct = 0\n",
        "    total = 0\n",
        "    with torch.no_grad():\n",
        "        for inputs, labels in val_loader:\n",
        "            inputs, labels = inputs.to('cuda'), labels.to('cuda')\n",
        "            outputs = model(inputs)\n",
        "            _, preds = torch.max(outputs, 1)\n",
        "            correct += (preds == labels).sum().item()\n",
        "            total += labels.size(0)\n",
        "\n",
        "    accuracy = correct / total\n",
        "    return -accuracy  # GWO minimizes the objective, so return negative accuracy\n",
        "\n"
      ],
      "metadata": {
        "id": "eyYt0Ok5O1gj"
      },
      "execution_count": null,
      "outputs": []
    },
    {
      "cell_type": "code",
      "source": [
        "\n",
        "# Initialize Grey Wolf Optimizer to find the best learning rate\n",
        "gwo = GreyWolfOptimizer(\n",
        "    objective_function=objective_function,\n",
        "    dim=1,               # One-dimensional optimization (learning rate)\n",
        "    lb=1e-5,             # Lower bound of learning rate\n",
        "    ub=1e-1,             # Upper bound of learning rate\n",
        "    population_size=10,  # Population size\n",
        "    max_iter=20          # Max iterations\n",
        ")"
      ],
      "metadata": {
        "id": "SAh9ewTpO3uQ"
      },
      "execution_count": null,
      "outputs": []
    },
    {
      "cell_type": "code",
      "source": [
        "\n",
        "# Run GWO to find optimal learning rate\n",
        "optimal_lr, best_fitness = gwo.optimize()\n",
        "print(f\"Optimal Learning Rate: {optimal_lr[0]}\")\n",
        "print(f\"Best Validation Accuracy: {-best_fitness}\")\n"
      ],
      "metadata": {
        "colab": {
          "base_uri": "https://localhost:8080/"
        },
        "id": "WqatnCTfO9nB",
        "outputId": "499d4dc2-d81b-443d-b105-6e051ae620d8"
      },
      "execution_count": null,
      "outputs": [
        {
          "metadata": {
            "tags": null
          },
          "name": "stderr",
          "output_type": "stream",
          "text": [
            "/usr/local/lib/python3.10/dist-packages/torchvision/models/_utils.py:208: UserWarning: The parameter 'pretrained' is deprecated since 0.13 and may be removed in the future, please use 'weights' instead.\n",
            "  warnings.warn(\n",
            "/usr/local/lib/python3.10/dist-packages/torchvision/models/_utils.py:223: UserWarning: Arguments other than a weight enum or `None` for 'weights' are deprecated since 0.13 and may be removed in the future. The current behavior is equivalent to passing `weights=VGG19_Weights.IMAGENET1K_V1`. You can also use `weights=VGG19_Weights.DEFAULT` to get the most up-to-date weights.\n",
            "  warnings.warn(msg)\n",
            "Downloading: \"https://download.pytorch.org/models/vgg19-dcbb9e9d.pth\" to /root/.cache/torch/hub/checkpoints/vgg19-dcbb9e9d.pth\n",
            "100%|██████████| 548M/548M [00:10<00:00, 53.5MB/s]\n"
          ]
        },
        {
          "output_type": "stream",
          "name": "stdout",
          "text": [
            "Optimal Learning Rate: 8.377642111712619e-05\n",
            "Best Validation Accuracy: 0.7567567567567568\n"
          ]
        }
      ]
    },
    {
      "cell_type": "code",
      "source": [
        "# Now, train the final model using the optimal learning rate\n",
        "final_lr = optimal_lr[0]\n",
        "model = vgg19(pretrained=True)\n",
        "model.classifier[6] = torch.nn.Linear(4096, len(dataset.classes))  # Adjust for the number of classes\n",
        "model = model.to('cuda')"
      ],
      "metadata": {
        "id": "tpTlF8hgPAQ4"
      },
      "execution_count": null,
      "outputs": []
    },
    {
      "cell_type": "code",
      "source": [
        "# Train using optimal learning rate\n",
        "optimizer = torch.optim.Adam(model.parameters(), lr=final_lr)\n",
        "criterion = torch.nn.CrossEntropyLoss()\n",
        "\n",
        "# Use the first fold again for final training\n",
        "train_idx, val_idx = fold_indices[0]\n",
        "train_subset = Subset(dataset, train_idx)\n",
        "val_subset = Subset(dataset, val_idx)\n",
        "train_loader = DataLoader(train_subset, batch_size=32, shuffle=True)\n",
        "val_loader = DataLoader(val_subset, batch_size=32, shuffle=False)\n"
      ],
      "metadata": {
        "id": "UfYwCR9HPfTB"
      },
      "execution_count": null,
      "outputs": []
    },
    {
      "cell_type": "code",
      "source": [
        "\n",
        "# Final training loop\n",
        "for epoch in range(3):\n",
        "    model.train()\n",
        "    for inputs, labels in train_loader:\n",
        "        inputs, labels = inputs.to('cuda'), labels.to('cuda')\n",
        "        optimizer.zero_grad()\n",
        "        outputs = model(inputs)\n",
        "        loss = criterion(outputs, labels)\n",
        "        loss.backward()\n",
        "        optimizer.step()\n",
        "\n"
      ],
      "metadata": {
        "id": "iXjGnxpUPf3j"
      },
      "execution_count": null,
      "outputs": []
    },
    {
      "cell_type": "code",
      "source": [
        "from sklearn.metrics import precision_score, recall_score, f1_score\n",
        "\n",
        "# Function to train and evaluate the model for a given fold\n",
        "def evaluate_fold(train_idx, val_idx, learning_rate):\n",
        "    train_subset = Subset(dataset, train_idx)\n",
        "    val_subset = Subset(dataset, val_idx)\n",
        "    train_loader = DataLoader(train_subset, batch_size=32, shuffle=True)\n",
        "    val_loader = DataLoader(val_subset, batch_size=32, shuffle=False)\n",
        "\n",
        "    # Define the model\n",
        "    model = vgg19(pretrained=True)\n",
        "    model.classifier[6] = torch.nn.Linear(4096, len(dataset.classes))  # Adjust for number of classes\n",
        "    model = model.to('cuda')\n",
        "\n",
        "    # Define optimizer and loss function\n",
        "    optimizer = torch.optim.Adam(model.parameters(), lr=learning_rate)\n",
        "    criterion = torch.nn.CrossEntropyLoss()\n",
        "\n",
        "    # Training loop\n",
        "    model.train()\n",
        "    for epoch in range(3):  # Example: Train for 3 epochs\n",
        "        for inputs, labels in train_loader:\n",
        "            inputs, labels = inputs.to('cuda'), labels.to('cuda')\n",
        "            optimizer.zero_grad()\n",
        "            outputs = model(inputs)\n",
        "            loss = criterion(outputs, labels)\n",
        "            loss.backward()\n",
        "            optimizer.step()\n",
        "\n",
        "    # Validation phase\n",
        "    model.eval()\n",
        "    y_true, y_pred = [], []\n",
        "    with torch.no_grad():\n",
        "        for inputs, labels in val_loader:\n",
        "            inputs, labels = inputs.to('cuda'), labels.to('cuda')\n",
        "            outputs = model(inputs)\n",
        "            _, preds = torch.max(outputs, 1)\n",
        "            y_true.extend(labels.cpu().numpy())\n",
        "            y_pred.extend(preds.cpu().numpy())\n",
        "\n",
        "    # Metrics calculation\n",
        "    accuracy = accuracy_score(y_true, y_pred)\n",
        "    precision = precision_score(y_true, y_pred, average='weighted')\n",
        "    recall = recall_score(y_true, y_pred, average='weighted')\n",
        "    f1 = f1_score(y_true, y_pred, average='weighted')\n",
        "    conf_matrix = confusion_matrix(y_true, y_pred)\n",
        "\n",
        "    return accuracy, precision, recall, f1, conf_matrix\n",
        "\n"
      ],
      "metadata": {
        "id": "4_yOgrN_duWQ"
      },
      "execution_count": null,
      "outputs": []
    },
    {
      "cell_type": "code",
      "source": [
        "# Perform cross-validation for each fold\n",
        "fold_results = []\n",
        "for fold, (train_idx, val_idx) in enumerate(fold_indices):\n",
        "    print(f\"Fold {fold + 1}:\")\n",
        "    accuracy, precision, recall, f1, conf_matrix = evaluate_fold(train_idx, val_idx, optimal_lr[0])\n",
        "    print(f\"Accuracy: {accuracy:.4f}\")\n",
        "    print(f\"Precision: {precision:.4f}\")\n",
        "    print(f\"Recall: {recall:.4f}\")\n",
        "    print(f\"F1 Score: {f1:.4f}\")\n",
        "    print(f\"Confusion Matrix:\\n{conf_matrix}\\n\")\n",
        "    fold_results.append((accuracy, precision, recall, f1, conf_matrix))\n"
      ],
      "metadata": {
        "colab": {
          "base_uri": "https://localhost:8080/"
        },
        "id": "n3YcRRXtdy05",
        "outputId": "f926ae11-9f9c-468e-a550-f13bd7123a24"
      },
      "execution_count": null,
      "outputs": [
        {
          "output_type": "stream",
          "name": "stdout",
          "text": [
            "Fold 1:\n"
          ]
        },
        {
          "output_type": "stream",
          "name": "stderr",
          "text": [
            "/usr/local/lib/python3.10/dist-packages/torchvision/models/_utils.py:208: UserWarning: The parameter 'pretrained' is deprecated since 0.13 and may be removed in the future, please use 'weights' instead.\n",
            "  warnings.warn(\n",
            "/usr/local/lib/python3.10/dist-packages/torchvision/models/_utils.py:223: UserWarning: Arguments other than a weight enum or `None` for 'weights' are deprecated since 0.13 and may be removed in the future. The current behavior is equivalent to passing `weights=VGG19_Weights.IMAGENET1K_V1`. You can also use `weights=VGG19_Weights.DEFAULT` to get the most up-to-date weights.\n",
            "  warnings.warn(msg)\n"
          ]
        },
        {
          "output_type": "stream",
          "name": "stdout",
          "text": [
            "Accuracy: 0.6486\n",
            "Precision: 0.6514\n",
            "Recall: 0.6486\n",
            "F1 Score: 0.6481\n",
            "Confusion Matrix:\n",
            "[[25 11]\n",
            " [15 23]]\n",
            "\n",
            "Fold 2:\n"
          ]
        },
        {
          "output_type": "stream",
          "name": "stderr",
          "text": [
            "/usr/local/lib/python3.10/dist-packages/torchvision/models/_utils.py:208: UserWarning: The parameter 'pretrained' is deprecated since 0.13 and may be removed in the future, please use 'weights' instead.\n",
            "  warnings.warn(\n",
            "/usr/local/lib/python3.10/dist-packages/torchvision/models/_utils.py:223: UserWarning: Arguments other than a weight enum or `None` for 'weights' are deprecated since 0.13 and may be removed in the future. The current behavior is equivalent to passing `weights=VGG19_Weights.IMAGENET1K_V1`. You can also use `weights=VGG19_Weights.DEFAULT` to get the most up-to-date weights.\n",
            "  warnings.warn(msg)\n"
          ]
        },
        {
          "output_type": "stream",
          "name": "stdout",
          "text": [
            "Accuracy: 0.7123\n",
            "Precision: 0.7126\n",
            "Recall: 0.7123\n",
            "F1 Score: 0.7123\n",
            "Confusion Matrix:\n",
            "[[26 10]\n",
            " [11 26]]\n",
            "\n",
            "Fold 3:\n"
          ]
        },
        {
          "output_type": "stream",
          "name": "stderr",
          "text": [
            "/usr/local/lib/python3.10/dist-packages/torchvision/models/_utils.py:208: UserWarning: The parameter 'pretrained' is deprecated since 0.13 and may be removed in the future, please use 'weights' instead.\n",
            "  warnings.warn(\n",
            "/usr/local/lib/python3.10/dist-packages/torchvision/models/_utils.py:223: UserWarning: Arguments other than a weight enum or `None` for 'weights' are deprecated since 0.13 and may be removed in the future. The current behavior is equivalent to passing `weights=VGG19_Weights.IMAGENET1K_V1`. You can also use `weights=VGG19_Weights.DEFAULT` to get the most up-to-date weights.\n",
            "  warnings.warn(msg)\n"
          ]
        },
        {
          "output_type": "stream",
          "name": "stdout",
          "text": [
            "Accuracy: 0.7671\n",
            "Precision: 0.7913\n",
            "Recall: 0.7671\n",
            "F1 Score: 0.7601\n",
            "Confusion Matrix:\n",
            "[[35  3]\n",
            " [14 21]]\n",
            "\n"
          ]
        }
      ]
    },
    {
      "cell_type": "code",
      "source": [
        "# Print average metrics across all folds\n",
        "avg_accuracy = np.mean([result[0] for result in fold_results])\n",
        "avg_precision = np.mean([result[1] for result in fold_results])\n",
        "avg_recall = np.mean([result[2] for result in fold_results])\n",
        "avg_f1 = np.mean([result[3] for result in fold_results])\n",
        "\n",
        "print(\"Average Metrics Across All Folds:\")\n",
        "print(f\"Average Accuracy: {avg_accuracy:.4f}\")\n",
        "print(f\"Average Precision: {avg_precision:.4f}\")\n",
        "print(f\"Average Recall: {avg_recall:.4f}\")\n",
        "print(f\"Average F1 Score: {avg_f1:.4f}\")"
      ],
      "metadata": {
        "colab": {
          "base_uri": "https://localhost:8080/"
        },
        "id": "6flOu8Zmd3pb",
        "outputId": "9294aecb-6ca5-428b-ca63-ded076beca6f"
      },
      "execution_count": null,
      "outputs": [
        {
          "output_type": "stream",
          "name": "stdout",
          "text": [
            "Average Metrics Across All Folds:\n",
            "Average Accuracy: 0.7094\n",
            "Average Precision: 0.7185\n",
            "Average Recall: 0.7094\n",
            "Average F1 Score: 0.7069\n"
          ]
        }
      ]
    },
    {
      "cell_type": "code",
      "source": [
        "\n",
        "# Final evaluation\n",
        "model.eval()\n",
        "y_true, y_pred = [], []\n",
        "with torch.no_grad():\n",
        "    for inputs, labels in val_loader:\n",
        "        inputs, labels = inputs.to('cuda'), labels.to('cuda')\n",
        "        outputs = model(inputs)\n",
        "        _, preds = torch.max(outputs, 1)\n",
        "        y_true.extend(labels.cpu().numpy())\n",
        "        y_pred.extend(preds.cpu().numpy())\n"
      ],
      "metadata": {
        "id": "T-zjuPcDPj6d"
      },
      "execution_count": null,
      "outputs": []
    },
    {
      "cell_type": "code",
      "source": [
        "# Performance metrics\n",
        "conf_matrix = confusion_matrix(y_true, y_pred)\n",
        "report = classification_report(y_true, y_pred, target_names=dataset.classes)\n",
        "accuracy = accuracy_score(y_true, y_pred)\n",
        "\n",
        "print(f\"Confusion Matrix:\\n{conf_matrix}\")\n",
        "print(f\"Classification Report:\\n{report}\")\n",
        "print(f\"Accuracy: {accuracy}\")"
      ],
      "metadata": {
        "colab": {
          "base_uri": "https://localhost:8080/"
        },
        "id": "mp8jfIDXPn_V",
        "outputId": "bc9ac453-583a-48aa-b659-3ca0b8604fc3"
      },
      "execution_count": null,
      "outputs": [
        {
          "output_type": "stream",
          "name": "stdout",
          "text": [
            "Confusion Matrix:\n",
            "[[17 19]\n",
            " [ 7 31]]\n",
            "Classification Report:\n",
            "              precision    recall  f1-score   support\n",
            "\n",
            "        Fake       0.71      0.47      0.57        36\n",
            "        Real       0.62      0.82      0.70        38\n",
            "\n",
            "    accuracy                           0.65        74\n",
            "   macro avg       0.66      0.64      0.64        74\n",
            "weighted avg       0.66      0.65      0.64        74\n",
            "\n",
            "Accuracy: 0.6486486486486487\n"
          ]
        }
      ]
    }
  ]
}